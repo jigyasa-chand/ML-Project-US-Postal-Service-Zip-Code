{
 "cells": [
  {
   "cell_type": "code",
   "execution_count": 2,
   "metadata": {},
   "outputs": [
    {
     "name": "stdout",
     "output_type": "stream",
     "text": [
      "Accuracy obtained is : 97.87736\n",
      "Number of support vectors is : 28\n"
     ]
    }
   ],
   "source": [
    "#Ans: 4(a) SVMs\n",
    "\n",
    "import numpy as np\n",
    "import pandas as pd\n",
    "import matplotlib.pyplot as plt\n",
    "from sklearn.svm import SVC\n",
    "from sklearn.metrics import accuracy_score\n",
    "from sklearn.metrics import classification_report, confusion_matrix\n",
    "\n",
    "#loading the data from url and separating the label and features. Considering only digit 1 and 5\n",
    "\n",
    "url=\"http://www.amlbook.com/data/zip/features.train\"\n",
    "colnames=['Label','Feature1','Feature2']\n",
    "data=pd.read_csv(url,names=colnames,sep = '  ',engine='python')\n",
    "df_train=data.drop(data[(data['Label']!=1) & (data['Label'] !=5)].index)\n",
    "X_train=df_train.iloc[:,1:3]\n",
    "y_train=df_train['Label']\n",
    "\n",
    "#test data\n",
    "url2=\"http://www.amlbook.com/data/zip/features.test\"\n",
    "colnames1=['Label','Feature1','Feature2']\n",
    "test_data=pd.read_csv(url2,names=colnames1,sep = '  ',engine='python')\n",
    "df_test=test_data.drop(test_data[(test_data['Label']!=1) & (test_data['Label'] !=5)].index)\n",
    "X_test=df_test.iloc[:,1:3]\n",
    "y_test=df_test['Label']\n",
    "\n",
    "#fitting into linear kernel\n",
    "svclassifier = SVC(kernel='linear')\n",
    "svclassifier.fit(X_train, y_train)\n",
    "y_pred = svclassifier.predict(X_test)\n",
    "\n",
    "print(f'Accuracy obtained is : {round(accuracy_score(y_test,y_pred)*100,5)}')\n",
    "no_support_vec=list(svclassifier.support_vectors_)\n",
    "print(f'Number of support vectors is : {len(no_support_vec)}')"
   ]
  },
  {
   "cell_type": "code",
   "execution_count": 3,
   "metadata": {},
   "outputs": [
    {
     "name": "stdout",
     "output_type": "stream",
     "text": [
      "The accuracy of 50 data points is :  98.11321\n",
      "The no. of support vectors used are: 2\n",
      "The accuracy of 100 data points is :  98.11321\n",
      "The no. of support vectors used are: 4\n",
      "The accuracy of 200 data points is :  98.11321\n",
      "The no. of support vectors used are: 8\n",
      "The accuracy of 800 data points is :  98.11321\n",
      "The no. of support vectors used are: 14\n"
     ]
    }
   ],
   "source": [
    "#Ans 4(b):\n",
    "\n",
    "sets=[50,100,200,800]\n",
    "for i in sets:\n",
    "    train_data=df_train.iloc[:i,:]\n",
    "    X_train=train_data.iloc[:i,1:3]\n",
    "    y_train=train_data['Label']\n",
    "    svclassifier = SVC(kernel='linear')\n",
    "    svclassifier.fit(X_train, y_train)\n",
    "    y_pred = svclassifier.predict(X_test)\n",
    "    acc= round((accuracy_score(y_test,y_pred)*100),5)\n",
    "    support_vec=list(svclassifier.support_vectors_)\n",
    "    print(f'The accuracy of {i} data points is :  {acc}' )\n",
    "    print(f'The no. of support vectors used are: {len(support_vec)}')\n",
    "    \n"
   ]
  },
  {
   "cell_type": "code",
   "execution_count": 4,
   "metadata": {},
   "outputs": [
    {
     "name": "stdout",
     "output_type": "stream",
     "text": [
      "Training error for 2 degree poly is: 0.04375\n",
      "Training error for 5 degree poly is: 0.005\n"
     ]
    }
   ],
   "source": [
    "#Ans 4(c)(i)\n",
    "for i in (2,5):\n",
    "    svclassifier = SVC(kernel='poly',degree=i,C=0.0001,gamma='auto')\n",
    "    svclassifier.fit(X_train, y_train)\n",
    "    y_pred = svclassifier.predict(X_train)\n",
    "#svclassifier.fit(X_train, y_train).score(X_train, y_train)\n",
    "    print(f'Training error for {i} degree poly is: {round(1-(accuracy_score(y_train,y_pred)),5)}')\n",
    "   \n"
   ]
  },
  {
   "cell_type": "code",
   "execution_count": 5,
   "metadata": {},
   "outputs": [
    {
     "name": "stdout",
     "output_type": "stream",
     "text": [
      "The no. of support vectors for degree 2 are: 110\n",
      "The no. of support vectors for degree 5 are: 12\n"
     ]
    }
   ],
   "source": [
    "#Ans 4(c)(ii)\n",
    "for i in (2,5):\n",
    "    svclassifier = SVC(kernel='poly',degree=i,C=0.001,gamma='auto')\n",
    "    svclassifier.fit(X_train, y_train)\n",
    "    y_pred = svclassifier.predict(X_train)\n",
    "#svclassifier.fit(X_train, y_train).score(X_train, y_train)\n",
    "    support_vec=list(svclassifier.support_vectors_)\n",
    "    print(f'The no. of support vectors for degree {i} are: {len(support_vec)}')\n"
   ]
  },
  {
   "cell_type": "code",
   "execution_count": 6,
   "metadata": {},
   "outputs": [
    {
     "name": "stdout",
     "output_type": "stream",
     "text": [
      "Training error for 2 degree poly is: 0.00875\n",
      "Training error for 5 degree poly is: 0.00375\n"
     ]
    }
   ],
   "source": [
    "#Ans 4(c)(iii)\n",
    "for i in (2,5):\n",
    "    svclassifier = SVC(kernel='poly',degree=i,C=0.001,gamma='auto')\n",
    "    svclassifier.fit(X_train, y_train)\n",
    "    y_pred = svclassifier.predict(X_train)\n",
    "#svclassifier.fit(X_train, y_train).score(X_train, y_train)\n",
    "    print(f'Training error for {i} degree poly is: {round(1-(accuracy_score(y_train,y_pred)),5)}')"
   ]
  },
  {
   "cell_type": "code",
   "execution_count": 7,
   "metadata": {},
   "outputs": [
    {
     "name": "stdout",
     "output_type": "stream",
     "text": [
      "Testing error for 2 degree poly is: 0.01651\n",
      "Testing error for 5 degree poly is: 0.01651\n"
     ]
    }
   ],
   "source": [
    "#Ans 4(c)(iv)\n",
    "for i in (2,5):\n",
    "    svclassifier = SVC(kernel='poly',degree=i,C=1,gamma='auto')\n",
    "    svclassifier.fit(X_train, y_train)\n",
    "    y_pred = svclassifier.predict(X_test)\n",
    "    print(f'Testing error for {i} degree poly is: {round(1-(accuracy_score(y_test,y_pred)),5)}')"
   ]
  },
  {
   "cell_type": "code",
   "execution_count": 8,
   "metadata": {},
   "outputs": [
    {
     "name": "stdout",
     "output_type": "stream",
     "text": [
      "   Value of C  Testing error  Training error\n",
      "0        0.01        0.01887          0.0025\n",
      "   Value of C  Testing error  Training error\n",
      "0           1        0.01887          0.0025\n",
      "   Value of C  Testing error  Training error\n",
      "0         100        0.01887          0.0025\n",
      "   Value of C  Testing error  Training error\n",
      "0       10000        0.01887         0.00125\n",
      "   Value of C  Testing error  Training error\n",
      "0     1000000        0.01415             0.0\n"
     ]
    }
   ],
   "source": [
    "#Ans 4 (d)\n",
    "for i in (0.01,1,100,10**4,10**6):\n",
    "    svclassifier = SVC(kernel='rbf',C=i,gamma='auto')\n",
    "    svclassifier.fit(X_train, y_train)\n",
    "    y_pred_train = svclassifier.predict(X_train)\n",
    "    y_pred_test= svclassifier.predict(X_test)\n",
    "    final={'Value of C' : [i],\n",
    "          'Testing error': [round(1-(accuracy_score(y_test,y_pred_test)),5)],\n",
    "          'Training error':round(1-(accuracy_score(y_train,y_pred_train)),5)}\n",
    "    df=pd.DataFrame(final)\n",
    "    print(df)"
   ]
  },
  {
   "cell_type": "code",
   "execution_count": 9,
   "metadata": {},
   "outputs": [
    {
     "name": "stdout",
     "output_type": "stream",
     "text": [
      "Training error is: 0.0\n",
      "Testing error is: 0.024\n",
      "1084\n"
     ]
    }
   ],
   "source": [
    "#Ans 5(a)\n",
    "\n",
    "x_train=pd.read_csv(\"J:\\MTech Notes\\FOML\\Assignments\\Assignment 2\\gisette_train.data\",index_col=False,names=range(1,5001),sep = ' ')\n",
    "col_name=['Label']\n",
    "train_df=pd.read_csv(\"J:\\MTech Notes\\FOML\\Assignments\\Assignment 2\\gisette_train.labels\",names=col_name)\n",
    "y_train=train_df['Label']\n",
    "\n",
    "\n",
    "x_valid=pd.read_csv(\"J:\\MTech Notes\\FOML\\Assignments\\Assignment 2\\gisette_valid.data\",index_col=False,names=range(1,5001),sep = ' ')\n",
    "df_y=pd.read_csv(\"J:\\MTech Notes\\FOML\\Assignments\\Assignment 2\\gisette_valid.labels\",names=col_name)\n",
    "y_valid=df_y['Label']\n",
    "\n",
    "svclassifier = SVC(kernel='linear')\n",
    "svclassifier.fit(x_train, y_train)\n",
    "y_pred_train = svclassifier.predict(x_train)\n",
    "y_pred_test = svclassifier.predict(x_valid)\n",
    "print(f'Training error is: {round(1-(accuracy_score(y_train,y_pred_train)),5)}')\n",
    "print(f'Testing error is: {round(1-(accuracy_score(y_valid,y_pred_test)),5)}')\n",
    "support_vec=list(svclassifier.support_vectors_)\n",
    "print(len(support_vec))"
   ]
  },
  {
   "cell_type": "code",
   "execution_count": 10,
   "metadata": {},
   "outputs": [
    {
     "name": "stdout",
     "output_type": "stream",
     "text": [
      "Details of rbf kernel is:\n",
      "Training error for RBF kernel is: 0.0\n",
      "Testing error for RBF kernel is: 0.5\n",
      "No of support vectors for RBF Kernel is: 6000\n",
      "Details of poly kernel is:\n",
      "Training error for poly kernel is: 0.0\n",
      "Testing error for poly kernel is: 0.021\n",
      "No of support vectors: 1755\n"
     ]
    }
   ],
   "source": [
    "#Answer 5(b)\n",
    "svclassifier_rbf = SVC(kernel='rbf',gamma=0.001)\n",
    "svclassifier_rbf.fit(x_train, y_train)\n",
    "\n",
    "y_pred_train = svclassifier_rbf.predict(x_train)\n",
    "y_pred_test = svclassifier_rbf.predict(x_valid)\n",
    "print(\"Details of rbf kernel is:\")\n",
    "print(f'Training error for RBF kernel is: {round(1-(accuracy_score(y_train,y_pred_train)),5)}')\n",
    "print(f'Testing error for RBF kernel is: {round(1-(accuracy_score(y_valid,y_pred_test)),5)}')\n",
    "support_vec=list(svclassifier_rbf.support_vectors_)\n",
    "print(f'No of support vectors for RBF Kernel is: {len(support_vec)}')\n",
    "\n",
    "svclassifier_poly = SVC(kernel='poly',degree=2,C=1,gamma='auto')\n",
    "svclassifier_poly.fit(x_train, y_train)\n",
    "\n",
    "y_pred_train = svclassifier_poly.predict(x_train)\n",
    "y_pred_test = svclassifier_poly.predict(x_valid)\n",
    "print(\"Details of poly kernel is:\")\n",
    "print(f'Training error for poly kernel is: {round(1-(accuracy_score(y_train,y_pred_train)),5)}')\n",
    "print(f'Testing error for poly kernel is: {round(1-(accuracy_score(y_valid,y_pred_test)),5)}')\n",
    "support_vec=list(svclassifier_poly.support_vectors_)\n",
    "print(f'No of support vectors: {len(support_vec)}')"
   ]
  },
  {
   "cell_type": "code",
   "execution_count": null,
   "metadata": {},
   "outputs": [],
   "source": []
  }
 ],
 "metadata": {
  "kernelspec": {
   "display_name": "Python 3",
   "language": "python",
   "name": "python3"
  },
  "language_info": {
   "codemirror_mode": {
    "name": "ipython",
    "version": 3
   },
   "file_extension": ".py",
   "mimetype": "text/x-python",
   "name": "python",
   "nbconvert_exporter": "python",
   "pygments_lexer": "ipython3",
   "version": "3.7.4"
  }
 },
 "nbformat": 4,
 "nbformat_minor": 2
}
